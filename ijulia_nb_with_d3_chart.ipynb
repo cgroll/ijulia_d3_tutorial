{
 "cells": [
  {
   "cell_type": "markdown",
   "metadata": {},
   "source": [
    "### Create dummy data"
   ]
  },
  {
   "cell_type": "code",
   "execution_count": 1,
   "metadata": {
    "collapsed": true
   },
   "outputs": [],
   "source": [
    "using Dates\n",
    "using DataFrames"
   ]
  },
  {
   "cell_type": "code",
   "execution_count": 2,
   "metadata": {
    "collapsed": false
   },
   "outputs": [
    {
     "data": {
      "text/html": [
       "<table class=\"data-frame\"><tr><th></th><th>idx</th><th>us</th><th>br</th><th>gb</th></tr><tr><th>1</th><td>2001-01-01</td><td>0.9841097398647372</td><td>0.9735803523821578</td><td>0.1087099393566413</td></tr><tr><th>2</th><td>2001-01-02</td><td>1.6365521627564175</td><td>1.6183466616403224</td><td>0.21904567154674304</td></tr><tr><th>3</th><td>2001-01-03</td><td>2.26229897321946</td><td>2.17743608697435</td><td>0.6281323222341055</td></tr><tr><th>4</th><td>2001-01-04</td><td>2.4727991545933516</td><td>2.874948870682819</td><td>1.2315882110345322</td></tr><tr><th>5</th><td>2001-01-05</td><td>3.3421913670415586</td><td>3.867812974251067</td><td>2.1020552151635155</td></tr><tr><th>6</th><td>2001-01-06</td><td>3.652527536425896</td><td>4.418473354606886</td><td>2.468947332937783</td></tr></table>"
      ],
      "text/plain": [
       "6x4 DataFrame\n",
       "| Row | idx        | us      | br      | gb       |\n",
       "|-----|------------|---------|---------|----------|\n",
       "| 1   | 2001-01-01 | 0.98411 | 0.97358 | 0.10871  |\n",
       "| 2   | 2001-01-02 | 1.63655 | 1.61835 | 0.219046 |\n",
       "| 3   | 2001-01-03 | 2.2623  | 2.17744 | 0.628132 |\n",
       "| 4   | 2001-01-04 | 2.4728  | 2.87495 | 1.23159  |\n",
       "| 5   | 2001-01-05 | 3.34219 | 3.86781 | 2.10206  |\n",
       "| 6   | 2001-01-06 | 3.65253 | 4.41847 | 2.46895  |"
      ]
     },
     "execution_count": 2,
     "metadata": {},
     "output_type": "execute_result"
    }
   ],
   "source": [
    "dats = [Date(2001,1,1):Date(2001,12,31)]\n",
    "nObs = size(dats, 1)\n",
    "vals = cumsum(rand(nObs, 3), 1)\n",
    "\n",
    "df = DataFrame(idx = dats, us = vals[:, 1], br = vals[:, 2], gb = vals[:, 3])\n",
    "head(df)"
   ]
  },
  {
   "cell_type": "code",
   "execution_count": 3,
   "metadata": {
    "collapsed": true
   },
   "outputs": [],
   "source": [
    "writetable(\"dummyData.csv\", df)"
   ]
  }
 ],
 "metadata": {
  "kernelspec": {
   "display_name": "Julia",
   "name": "julia"
  },
  "language_info": {
   "name": "julia",
   "version": "0.3.5"
  }
 },
 "nbformat": 4,
 "nbformat_minor": 0
}
