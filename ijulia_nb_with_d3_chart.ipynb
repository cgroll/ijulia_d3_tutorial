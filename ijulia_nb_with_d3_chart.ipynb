{
 "cells": [
  {
   "cell_type": "markdown",
   "metadata": {},
   "source": [
    "### Create dummy data"
   ]
  },
  {
   "cell_type": "code",
   "execution_count": 1,
   "metadata": {
    "collapsed": true
   },
   "outputs": [],
   "source": [
    "using Dates\n",
    "using DataFrames\n",
    "using TimeData\n",
    "using Docile"
   ]
  },
  {
   "cell_type": "code",
   "execution_count": 2,
   "metadata": {
    "collapsed": false
   },
   "outputs": [
    {
     "data": {
      "text/html": [
       "<table class=\"data-frame\"><tr><th></th><th>idx</th><th>us</th><th>br</th><th>gb</th></tr><tr><th>1</th><td>2001-01-01</td><td>0.34691708682440714</td><td>0.5421239027163987</td><td>0.439929953617171</td></tr><tr><th>2</th><td>2001-01-02</td><td>0.8645388925200443</td><td>0.7845887704336125</td><td>0.5530131144803805</td></tr><tr><th>3</th><td>2001-01-03</td><td>1.0769112204266973</td><td>1.6167927240668665</td><td>0.8878340529932869</td></tr><tr><th>4</th><td>2001-01-04</td><td>1.2248861298885412</td><td>2.547568683214151</td><td>1.6931588970480376</td></tr><tr><th>5</th><td>2001-01-05</td><td>1.869482807114402</td><td>3.1132594032281786</td><td>2.5418555704053003</td></tr><tr><th>6</th><td>2001-01-06</td><td>2.7864082505035968</td><td>3.730715278956618</td><td>3.1353593481056405</td></tr></table>"
      ],
      "text/plain": [
       "6x4 DataFrame\n",
       "| Row | idx        | us       | br       | gb       |\n",
       "|-----|------------|----------|----------|----------|\n",
       "| 1   | 2001-01-01 | 0.346917 | 0.542124 | 0.43993  |\n",
       "| 2   | 2001-01-02 | 0.864539 | 0.784589 | 0.553013 |\n",
       "| 3   | 2001-01-03 | 1.07691  | 1.61679  | 0.887834 |\n",
       "| 4   | 2001-01-04 | 1.22489  | 2.54757  | 1.69316  |\n",
       "| 5   | 2001-01-05 | 1.86948  | 3.11326  | 2.54186  |\n",
       "| 6   | 2001-01-06 | 2.78641  | 3.73072  | 3.13536  |"
      ]
     },
     "execution_count": 2,
     "metadata": {},
     "output_type": "execute_result"
    }
   ],
   "source": [
    "dats = [Date(2001,1,1):Date(2001,12,31)]\n",
    "nObs = size(dats, 1)\n",
    "vals = cumsum(rand(nObs, 3), 1)\n",
    "\n",
    "df = DataFrame(idx = dats, us = vals[:, 1], br = vals[:, 2], gb = vals[:, 3])\n",
    "head(df)"
   ]
  },
  {
   "cell_type": "code",
   "execution_count": 3,
   "metadata": {
    "collapsed": true
   },
   "outputs": [],
   "source": [
    "writetable(\"dummyData.csv\", df)"
   ]
  },
  {
   "cell_type": "markdown",
   "metadata": {},
   "source": [
    "#### Load libraries"
   ]
  },
  {
   "cell_type": "code",
   "execution_count": 4,
   "metadata": {
    "collapsed": false
   },
   "outputs": [
    {
     "data": {
      "text/plain": [
       "lineChart (generic function with 1 method)"
      ]
     },
     "execution_count": 4,
     "metadata": {},
     "output_type": "execute_result"
    }
   ],
   "source": [
    "include(\"initCanvas.jl\")\n",
    "include(\"lineChart.jl\")"
   ]
  },
  {
   "cell_type": "code",
   "execution_count": 5,
   "metadata": {
    "collapsed": false
   },
   "outputs": [
    {
     "data": {
      "text/html": [
       "<script src=\"http://d3js.org/d3.v3.min.js\" charset=\"utf-8\"></script>\n",
       "<div class=\"lineChartCanvas\"></div>\n"
      ],
      "text/plain": [
       "Raw_html(\"<script src=\\\"http://d3js.org/d3.v3.min.js\\\" charset=\\\"utf-8\\\"></script>\\n<div class=\\\"lineChartCanvas\\\"></div>\\n\")"
      ]
     },
     "execution_count": 5,
     "metadata": {},
     "output_type": "execute_result"
    }
   ],
   "source": [
    "initCanvas(\"lineChartCanvas\")"
   ]
  },
  {
   "cell_type": "code",
   "execution_count": 6,
   "metadata": {
    "collapsed": false
   },
   "outputs": [
    {
     "data": {
      "text/html": [
       "<script src=\"lineChart.js\"></script>\n",
       "\n",
       "<script>\n",
       "var customizedChart = lineChart()\n",
       ".width(800)\n",
       ".height(400)\n",
       "</script>\n",
       "\n",
       "<script>\n",
       "d3.csv(\"./tmp/juliaJDszi2\", function(data) {\n",
       "d3.select(\".lineChartCanvas\")\n",
       ".datum(data)\n",
       ".call(customizedChart)\n",
       "})\n",
       "</script>\n"
      ],
      "text/plain": [
       "Raw_html(\"<script src=\\\"lineChart.js\\\"></script>\\n\\n<script>\\nvar customizedChart = lineChart()\\n.width(800)\\n.height(400)\\n</script>\\n\\n<script>\\nd3.csv(\\\"./tmp/juliaJDszi2\\\", function(data) {\\nd3.select(\\\".lineChartCanvas\\\")\\n.datum(data)\\n.call(customizedChart)\\n})\\n</script>\\n\")"
      ]
     },
     "execution_count": 6,
     "metadata": {},
     "output_type": "execute_result"
    }
   ],
   "source": [
    "tm = Timematr(df[:, 2:4], df[:, 1])\n",
    "lineChart(tm, \"lineChartCanvas\")"
   ]
  }
 ],
 "metadata": {
  "kernelspec": {
   "display_name": "Julia",
   "name": "julia"
  },
  "language_info": {
   "name": "julia",
   "version": "0.3.5"
  }
 },
 "nbformat": 4,
 "nbformat_minor": 0
}
